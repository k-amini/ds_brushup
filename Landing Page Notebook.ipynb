{
 "cells": [
  {
   "cell_type": "markdown",
   "metadata": {},
   "source": [
    "# Landing page notebook"
   ]
  },
  {
   "cell_type": "markdown",
   "metadata": {},
   "source": [
    "## Overleaf & Latex\n",
    "\n",
    "### Project Location\n",
    "Overleaf project for notes: [ https://www.overleaf.com/read/bzxvkgwcbqgb ]. Email me if you want / need write access.\n",
    "\n",
    "### Useful links:\n",
    "* Latex tutorials on Overleaf [ https://www.overleaf.com/learn/latex/Tutorials ]\n",
    "* Detextify, [ http://detexify.kirelabs.org/classify.html ] which will let you draw the symbol you want and get the TeX/LaTeX name\n",
    "* Mathpix, [ https://mathpix.com/ ]. App that will take a screenshot of an equation and turn it into Latex code. It used to be free, but now it seems they charge. Anyway you can get 50 snips a month for free still."
   ]
  },
  {
   "cell_type": "markdown",
   "metadata": {},
   "source": [
    "## Jupyter & Markdown\n",
    "\n",
    "### Installing:\n",
    "* If you don't have a pre-existing strong preference for a particular approach for managing Python or R, I would recommend using Anaconda as it is largely self-contained and pretty user-friendly. Installation guide is available here [ https://docs.anaconda.com/anaconda/install/ ]\n",
    "\n",
    "\n",
    "### Useful links:\n",
    "* Markdown Cheatsheet [ https://github.com/adam-p/markdown-here/wiki/Markdown-Cheatsheet], which tells you how to do the typography stuff\n",
    "* MathJax basics [ http://meta.math.stackexchange.com/questions/5020/mathjax-basic-tutorial-and-quick-reference ] \n",
    "* Online notebook renderer [ http://nbviewer.jupyter.org/ ]\n"
   ]
  },
  {
   "cell_type": "markdown",
   "metadata": {},
   "source": [
    "## Git\n",
    "\n",
    "### Project Location:\n",
    "[ https://github.com/rckeely/ds_brushup/blob/master/DS%20Stats%20Brushup%20Exercises%20(Day%201).ipynb ]\n",
    "\n",
    "### Useful links\n",
    "* Git Cheat Sheet [ https://gist.github.com/davfre/8313299 ]\n",
    "* Adding a remote repository [ https://help.github.com/en/articles/adding-an-existing-project-to-github-using-the-command-line ]\n",
    "* Pushing & pulling from a remote repository [ https://help.github.com/en/articles/getting-changes-from-a-remote-repository ]\n"
   ]
  },
  {
   "cell_type": "markdown",
   "metadata": {},
   "source": [
    "## Mathematics\n",
    "Useful links:\n",
    "* Stack Exchange [ https://math.stackexchange.com/ ] is a message board that is a great resource for finding the answers for maths problems\n",
    "* Wikipedia [ https://en.wikipedia.org ] is great for maths\n",
    "* Wolfram Alpha [ https://www.wolframalpha.com/ ]. Search engine for mathematic concepts. (Uses Mathematica and Wolfram language)\n",
    "* Mathworld [ http://mathworld.wolfram.com/ ]. Encyclopaedia of mathematics, good additional resource beyond Wikipedia.\n"
   ]
  }
 ],
 "metadata": {
  "kernelspec": {
   "display_name": "Python 3",
   "language": "python",
   "name": "python3"
  },
  "language_info": {
   "codemirror_mode": {
    "name": "ipython",
    "version": 3
   },
   "file_extension": ".py",
   "mimetype": "text/x-python",
   "name": "python",
   "nbconvert_exporter": "python",
   "pygments_lexer": "ipython3",
   "version": "3.7.3"
  }
 },
 "nbformat": 4,
 "nbformat_minor": 2
}
