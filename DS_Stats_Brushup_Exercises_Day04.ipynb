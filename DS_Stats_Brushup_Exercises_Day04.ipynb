{
 "cells": [
  {
   "cell_type": "markdown",
   "metadata": {},
   "source": [
    "### Exercises"
   ]
  },
  {
   "cell_type": "markdown",
   "metadata": {},
   "source": [
    "1. Show that if:\n",
    "$$ \\begin{align*}\n",
    "    X & \\sim \\mathcal{N}(\\mu, v) \\\\\n",
    "    \\text{and} \\quad Y &= X^2 \\\\\n",
    "    \\implies Y &\\sim \\text{Gamma}(\\frac{1}{2},\\frac{1}{2})\n",
    "\\end{align*} $$\n",
    "Starting from the Gamma distribution:\n",
    "$$ \\begin{align*}\n",
    "    \\text{Gamma}(a,b) &= \\frac{b^a}{\\Gamma(a)} e^{-bx} x^{a-1} \\qquad x \\geq 0 \\\\\n",
    "    \\text{Gamma}(\\frac{1}{2},\\frac{1}{2}) &= \\frac{(\\frac{1} \\\\{2})^\\frac{1}{2}}{\\sqrt{\\pi}} e^{-\\frac{1}{2} y} y^{\\frac{1}{2}} \\\\\n",
    "    &= \\frac{1}{\\sqrt{2 \\pi}} e^{-\\frac{1}{2} y} y^{\\frac{1}{2}}\n",
    "\\end{align*} $$\n",
    "$$ \\begin{align*}\n",
    "    \\mathbb{P}[X^2 \\leq y] &= \\mathbb{P}[-\\sqrt{y} \\leq \\sqrt{y}] \\\\\n",
    "    &= \\mathbb{P}[X \\leq \\sqrt{y}] - \\mathbb{P}[X \\leq - \\sqrt{y}] \\\\\n",
    "    &= F(\\sqrt{y}) - F(- \\sqrt{y}) \\\\\n",
    "    \\frac{\\partial}{\\partial y} [F(\\sqrt{y}) - F(- \\sqrt{y})] &= \\frac{1}{2\\sqrt{y}} f_x(\\sqrt{y}) -  \\frac{1}{2\\sqrt{y}} f_x(-\\sqrt{y}) \\\\\n",
    "    &= \\frac{1}{2\\sqrt{y}} \\left[ f_x(\\sqrt{y}) + f_x(\\sqrt{y}) \\right] \\\\\n",
    "    &= \\frac{1}{\\sqrt{2 \\pi}} e^{-\\frac{1}{2} y} y^{\\frac{1}{2}}\n",
    "\\end{align*} $$"
   ]
  },
  {
   "cell_type": "markdown",
   "metadata": {},
   "source": [
    "#### Correction :\n",
    "$$ \\begin{align*}\n",
    "    Y = X^2 &\\sim \\text{Gamma}\\left(\\frac{1}{2},\\frac{1}{2}\\right) \\\\\n",
    "    X &\\sim \\mathcal{N}(0,1) \\\\\n",
    "    \\Phi(P(Y \\geq \\sqrt{y}) &= \\mathbb{P}(Y \\geq \\sqrt{y}) \\\\\n",
    "    \\Phi(\\sqrt{y}) &= 1 - \\Phi(-\\sqrt{y}) \\\\\n",
    "    \\mathbb{P}(Y \\leq y) &= \\mathbb{P}(\\sqrt{y} \\leq X \\leq \\sqrt{y}) \\\\\n",
    "    &= \\Phi(\\sqrt{y}) - (1 - \\Phi(\\sqrt{y}) \\\\\n",
    "    &= 2 \\Phi(\\sqrt{y}) - 1 \\\\\n",
    "    p_y(y) &= 2 \\frac{1}{\\pi} e^{-\\frac{1}{2}y}\\frac{1}{2\\sqrt{y}} \\\\\n",
    "    & \\propto y^{-\\frac{1}{2} - 1}e^{-\\frac{1}{2}y} && \\text{Using the chain rule}\n",
    "\\end{align*} $$\n",
    "\n",
    "#### Aside:\n",
    "$$ \\begin{align*}\n",
    "    B \\sim \\text{Bernoulli}(\\frac{1}{2}) \\\\\n",
    "    (2B -1) \\sqrt{G} \\\\\n",
    "    G \\sim \\text{Ga}(\\frac{1}{2},\\frac{1}{2})\n",
    "\\end{align*} $$"
   ]
  },
  {
   "cell_type": "markdown",
   "metadata": {},
   "source": [
    "2. Show that if:\n",
    "$$ \\begin{align*}\n",
    "    X &\\sim \\mathcal{N}(\\boldsymbol{\\mu}, \\Sigma) \\\\\n",
    "    \\text{and} \\quad Y &= \\sum_{i=1}^{d}X^2 \\\\\n",
    "    \\implies Y &\\sim \\text{Gamma}(\\frac{d}{2},\\frac{1}{2})\n",
    "\\end{align*} $$\n",
    "\n",
    "$$ \\begin{align*}\n",
    "    M_{X^2}(u) &= \\left( 1 - \\frac{u}{b} \\right)^{-a} \\\\\n",
    "    M_{\\sum X^2}(u) &= \\prod M_{X_i^2}(u) \\\\\n",
    "        &= \\left(1 - \\frac{u}{b} \\right)^{- \\sum_i^d a_i} \\\\\n",
    "        &= \\left(1 - \\frac{u}{b} \\right)^{- \\sum_i^d \\frac{1}{2}} \\\\\n",
    "       &= \\left(1 - \\frac{u}{\\frac{1}{2}} \\right)^{-\\frac{d}{2}} \\\\\n",
    "    \\implies Y &\\sim \\text{Gamma}(\\frac{d}{2},\\frac{1}{2})\n",
    "\\end{align*} $$"
   ]
  },
  {
   "cell_type": "markdown",
   "metadata": {},
   "source": [
    "3. For a PSD matrix, the eigenvalues are non-negative:\n",
    "$$ \\begin{align*}\n",
    "    \\boldsymbol{x}^T A \\boldsymbol{x} & \\geq 0 && \\text{By definition of a PSD matrix}\\\\\n",
    "     A \\boldsymbol{x} &= \\lambda \\boldsymbol{x} && \\text{By definition of Eigenvalues}\\\\\n",
    "     \\boldsymbol{x}^T A \\boldsymbol{x} &= \\boldsymbol{x}^T \\lambda \\boldsymbol{x} \\\\\n",
    "     &= \\lambda  \\boldsymbol{x}^T \\boldsymbol{x} && \\text{As $\\lambda$ is a scalar}\\\\\n",
    "     \\implies \\lambda & \\geq 0 \\qquad \\lambda \\in \\mathbb{R}\n",
    "\\end{align*} $$\n",
    "\n",
    "### Correction\n",
    "$$ \\begin{align*}\n",
    "    A \\boldsymbol{x} &= \\lambda \\lambda \\boldsymbol{x} \\\\\n",
    "    0 &\\leq \\boldsymbol{x}^T A \\boldsymbol{x} \\\\\n",
    "    &= \\boldsymbol{x}^T \\lambda \\boldsymbol{x} \\\\\n",
    "    &= \\lambda \\boldsymbol{x}^T \\boldsymbol{x}  \\\\\n",
    "    \\implies \\lambda &\\geq 0, \\lambda \\in \\mathbb{R}\n",
    "\\end{align*} $$"
   ]
  },
  {
   "cell_type": "markdown",
   "metadata": {},
   "source": [
    "4. Given a Cartesian basis, convert it to another basis. \\emph{e.g.}:\n",
    "$$ \\begin{align*}\n",
    "    a \\begin{pmatrix}1 \\\\ 0 \\end{pmatrix} +\n",
    "    b \\begin{pmatrix}0 \\\\ 1 \\end{pmatrix} =\n",
    "    \\begin{pmatrix}2 \\\\ 2 \\end{pmatrix}\n",
    "\\end{align*} $$\n",
    "\n",
    "$$ \\begin{align*}\n",
    "    c \\begin{pmatrix}-1 \\\\ 2 \\end{pmatrix}+\n",
    "    d \\begin{pmatrix}2 \\\\ 1 \\end{pmatrix} &=\n",
    "    \\begin{pmatrix}2 \\\\ 2 \\end{pmatrix} \\\\\n",
    "    \\underbrace{\\begin{pmatrix}-1 & 2\\\\ 2 & 1 \\end{pmatrix}}_A\n",
    "    \\underbrace{\\begin{pmatrix}c \\\\ d \\end{pmatrix}}_x &=\n",
    "    \\underbrace{\\begin{pmatrix}2 \\\\ 2 \\end{pmatrix}}_y\\\\ \n",
    "    \\implies x &= A^{-1} y\n",
    "\\end{align*} $$"
   ]
  },
  {
   "cell_type": "markdown",
   "metadata": {},
   "source": [
    "5. Show that the derivation done for the Frobenius norm holds for the Spectral norm. **NOTE: This was not necessary**\n",
    "\n",
    "$$ \\begin{align*}\n",
    "    || \\Sigma - \\tilde{\\Sigma} ||_F &= || U \\Lambda U^T - \\tilde{\\Sigma} ||_F \\\\\n",
    "    &= || U \\Lambda U^T - U U^T \\tilde{\\Sigma} ||_F && \\text{as } UU^T = I \\\\\n",
    "    &= || U (\\Lambda U^T - U^T \\tilde{\\Sigma}) ||_F \\\\\n",
    "\\end{align*} $$\n",
    "Noting that:\n",
    "$$ \\begin{align*}\n",
    "    || UA ||_F &= \\text{tr}(A^T U^UA) \\\\\n",
    "    &= \\text{tr}(A^T A) \\\\\n",
    "    &= ||A||_F &&\n",
    "\\end{align*} $$\n",
    "This definitely holds for the Frobenius norm, but it _may_ also hold for the Spectral norm?\n",
    "$$ \\begin{align*}\n",
    "    \\implies || \\Lambda U^T - U^T \\tilde{\\Sigma}) ||_F &= \\Lambda U^T U - U^T \\tilde{\\Sigma} U) ||_F \\\\\n",
    "    &= || \\Lambda - U^T \\tilde{\\Sigma} U) ||_F\n",
    "    &= || \\Lambda - W) ||_F\n",
    "\\end{align*} $$\n",
    "where $W$ is diagonal as otherwise it would increase the norm for Frobenius. There remains a question as to whether this would hold for the spectral norm"
   ]
  },
  {
   "cell_type": "markdown",
   "metadata": {},
   "source": [
    "6. Question about outlier identification (copy from notes and do)"
   ]
  },
  {
   "cell_type": "markdown",
   "metadata": {},
   "source": [
    "$$ \\begin{align*} \\end{align*} $$"
   ]
  }
 ],
 "metadata": {
  "kernelspec": {
   "display_name": "Python 3",
   "language": "python",
   "name": "python3"
  },
  "language_info": {
   "codemirror_mode": {
    "name": "ipython",
    "version": 3
   },
   "file_extension": ".py",
   "mimetype": "text/x-python",
   "name": "python",
   "nbconvert_exporter": "python",
   "pygments_lexer": "ipython3",
   "version": "3.7.3"
  }
 },
 "nbformat": 4,
 "nbformat_minor": 2
}
