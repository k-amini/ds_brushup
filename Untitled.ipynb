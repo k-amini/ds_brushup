{
 "cells": [
  {
   "cell_type": "markdown",
   "metadata": {},
   "source": [
    "Copy buffer\n",
    "\n",
    "$$\\require{cancel} \\begin{align*} \\end{align*} $$\n",
    "\n",
    "$$ \\begin{align*} \\end{align*} $$"
   ]
  },
  {
   "cell_type": "markdown",
   "metadata": {},
   "source": [
    "1. \n",
    "\n",
    "#### Correction\n",
    "$$ \\begin{align*}\n",
    "    Y = X^2 &\\sim \\text{Gamma}\\left(\\frac{1}{2},\\frac{1}{2}\\right) \\\\\n",
    "    X &\\sim \\mathcal{N}(0,1) \\\\\n",
    "    \\Phi(P(Y \\geq \\sqrt{y}) &= \\mathbb{P}(Y \\geq \\sqrt{y}) \\\\\n",
    "    \\Phi(\\sqrt{y}) &= 1 - \\Phi(-\\sqrt{y}) \\\\\n",
    "    \\mathbb{P}(Y \\leq y) &= \\mathbb{P}(\\sqrt{y} \\leq X \\leq \\sqrt{y}) \\\\\n",
    "    &= \\Phi(\\sqrt{y}) - (1 - \\Phi(\\sqrt{y}) \\\\\n",
    "    &= 2 \\Phi(\\sqrt{y}) - 1 \\\\\n",
    "    p_y(y) &= 2 \\frac{1}{\\pi} e^{-\\frac{1}{2}y}\\frac{1}{2\\sqrt{y}} \\\\\n",
    "    & \\propto y^{-\\frac{1}{2} - 1}e^{-\\frac{1}{2}y} && \\text{Using the chain rule}\n",
    "\\end{align*} $$\n",
    "\n",
    "#### Aside:\n",
    "$$ \\begin{align*}\n",
    "    B \\sim \\text{Bernoulli}(\\frac{1}{2}) \\\\\n",
    "    (2B -1) \\sqrt{G} \\\\\n",
    "    G \\sim \\text{Ga}(\\frac{1}{2},\\frac{1}{2})\n",
    "\\end{align*} $$"
   ]
  },
  {
   "cell_type": "markdown",
   "metadata": {},
   "source": [
    "2. For a PSD matrix, the eigenvalues are non-negative\n",
    "$$ \\begin{align*}\n",
    "    A \\boldsymbol{x} &= \\lambda \\lambda \\boldsymbol{x} \\\\\n",
    "    0 &\\leq \\boldsymbol{x}^T A \\boldsymbol{x} \\\\\n",
    "    &= \\boldsymbol{x}^T \\lambda \\boldsymbol{x} \\\\\n",
    "    &= \\lambda \\boldsymbol{x}^T \\boldsymbol{x}  \\\\\n",
    "    \\implies \\lambda &\\geq 0, \\lambda \\in \\mathbb{R}\n",
    "\\end{align*} $$"
   ]
  },
  {
   "cell_type": "code",
   "execution_count": null,
   "metadata": {},
   "outputs": [],
   "source": []
  }
 ],
 "metadata": {
  "kernelspec": {
   "display_name": "Python 3",
   "language": "python",
   "name": "python3"
  },
  "language_info": {
   "codemirror_mode": {
    "name": "ipython",
    "version": 3
   },
   "file_extension": ".py",
   "mimetype": "text/x-python",
   "name": "python",
   "nbconvert_exporter": "python",
   "pygments_lexer": "ipython3",
   "version": "3.7.3"
  }
 },
 "nbformat": 4,
 "nbformat_minor": 2
}
