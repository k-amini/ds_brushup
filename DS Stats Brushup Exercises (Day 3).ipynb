{
 "cells": [
  {
   "cell_type": "markdown",
   "metadata": {},
   "source": [
    "1.\n",
    "$$ \\begin{align*}\n",
    "    M_X(u) &= \\mathbb{E}[e^{uX}] \\\\\n",
    "    Y &= aX + b && \\text{Affine transform of variable}\\\\\n",
    "    &= \\mathbb{E}[e^{uY}] \\\\\n",
    "    &= \\mathbb{E}[e^{uaX +ub}] \\\\\n",
    "    &= e^{ub}\\mathbb{E}[e^{uaX}] \\\\\n",
    "    &= e^{ub}M_{aX}(u)\n",
    "\\end{align*} $$"
   ]
  },
  {
   "cell_type": "markdown",
   "metadata": {},
   "source": [
    "2. Show that the sum of two Poisson RVs has a Poisson distribution:\n",
    "$$ \\begin{align*}\n",
    "    \\text{Poisson MGF : } M_X(u) &= e^{\\lambda(e^u-1)} \\\\\n",
    "    \\text{as} \\quad  \\mathbb{E}[e^{\\sum_{i=1} u_i X_i}] &= \\prod_{i=1} \n",
    "        \\mathbb{E}[e^{u_i X_i}] \\\\\n",
    "    &= \\prod_{i=1}^2 e^{\\lambda(u - 1)} \\\\\n",
    "    &= e^{\\lambda_1(e^u - 1)} \\cdot e^{\\lambda_2(e^u - 1)} \\\\\n",
    "    &= e^{(\\lambda_1 + \\lambda_2)(e^u - 1)}\n",
    "\\end{align*} $$"
   ]
  },
  {
   "cell_type": "markdown",
   "metadata": {},
   "source": [
    "#### Correction:\n",
    "As it is discrete, can also use the PGF in addition to the MGF:\n",
    "$$ \\begin{align*}\n",
    "    X_1 & \\sim P_0(\\mu_1) \\\\\n",
    "    X_2 & \\sim P_1(\\mu_1) \\\\\n",
    "    X_1 + X_2 \\\\\n",
    "    \\psi_{x_1+x_2}(s) &= \\psi_{X_1}(s)\\psi_{X_2}(s)  \\\\\n",
    "    &= e^{\\mu_1(s-1)}e^{\\mu_2(s-2)} \\\\\n",
    "    &= e^{(\\mu_1+\\mu_2)(s-1)} \\\\\n",
    "    &= P_0(\\mu_1 + \\mu_2)\n",
    "\\end{align*} $$"
   ]
  },
  {
   "cell_type": "markdown",
   "metadata": {},
   "source": [
    "3. Show that the sum of two Gamma RVs has a Gamma distribution:\n",
    "$$ \\begin{align*}\n",
    "    A_1 \\sim \\text{Ga}(a_1, b) \\\\\n",
    "    A_2 \\sim \\text{Ga}(a_2, b) \\\\\n",
    "    Z = A_1 + A_2 \\sim \\text{Ga}(a_1 + a_2, b) \\\\\n",
    "\\end{align*} $$\n",
    "Use the Moment Generating Function (MGF):\n",
    "$$ \\begin{align*}\n",
    "    M_X(u) = \\left( \\frac{1}{1-bu}\\right)^{a_1} && \\text{where } u < \\frac{1}{b}\n",
    "\\end{align*} $$"
   ]
  },
  {
   "cell_type": "markdown",
   "metadata": {},
   "source": [
    "Sum of two Gamma distributions is Gamma.\n",
    "\n",
    "#### Correction :\n",
    "$$ \\begin{align*}\n",
    "    X_1 &\\sim Ga(a_1, b) \\\\\n",
    "    X_2 &\\sim Ga(a_2, b) \\\\\n",
    "    Z &= X_1 + X_2 \\\\\n",
    "    M_Z(t) &= \\frac{1}{(1-bt)^a} \\\\\n",
    "    M_{Z=X_1+X_2}(t) &= \\frac{1}{(1-bt)^{a_1}} \\frac{1}{(1-bt)^{a_2}} \\\\\n",
    "    &= \\frac{1}{(1-bt)^{a_1+a_2}}\n",
    "\\end{align*}$$"
   ]
  },
  {
   "cell_type": "markdown",
   "metadata": {},
   "source": [
    "Copy buffer\n",
    "\n",
    "$$\\require{cancel} \\begin{align*} \\end{align*} $$\n",
    "\n",
    "$$ \\begin{align*} \\end{align*} $$\n"
   ]
  },
  {
   "cell_type": "markdown",
   "metadata": {},
   "source": [
    "4. Show that the covariance matrix is PSD.\n",
    "$$ \\begin{align*}\n",
    "    \\underset{d \\times d}{\\Sigma} = \\mathbb{E}[(X - \\mathbb{E}[X])(X - \\mathbb{E}[X])^T] \\\\\n",
    "    \\underset{1 \\times d}{\\boldsymbol{u}^T} \\underset{d \\times d}{\\Sigma} \\underset{d \\times 1}{\\boldsymbol{u}} = \\underset{1 \\times d}{\\boldsymbol{u}^T \\mathbb{E}[(X - \\mathbb{E}[X])(X - \\mathbb{E}[X])^T]\\\\\n",
    "\\end{align*} $$"
   ]
  },
  {
   "cell_type": "markdown",
   "metadata": {},
   "source": [
    "$$ \\begin{align*}\n",
    "X_1, \\ldots, X_d \\\\\n",
    "\\Sigma_{ij} &= \\text{Cov}(X_i,X+j) \\\\\n",
    "&= \\boldsymbol{u}^T \\mathbb{E}[(X - \\mathbb{E}[X])(X - \\mathbb{E}[X])^T] \\boldsymbol{u}\\\\\n",
    "&= \\mathbb{E}[\\boldsymbol{u}^T A \\boldsymbol{u} ] && \\text{As A is PSD by construction} \\\\\n",
    "\\end{align*} $$\n",
    "\n",
    "$$ \\begin{align*}\n",
    "    \\boldsymbol{u}^T \\Sigma \\boldsymbol{u} &= \\text{Var}(\\boldsymbol{u} \\boldsymbol{X} \\geq 0 \\\\\n",
    "    \\text{Var}(A \\boldsymbol{X}) &= A \\text{Var}(\\boldsymbol{X})A^T\n",
    "\\end{align*} $$"
   ]
  },
  {
   "cell_type": "code",
   "execution_count": null,
   "metadata": {},
   "outputs": [],
   "source": []
  }
 ],
 "metadata": {
  "kernelspec": {
   "display_name": "Python 3",
   "language": "python",
   "name": "python3"
  },
  "language_info": {
   "codemirror_mode": {
    "name": "ipython",
    "version": 3
   },
   "file_extension": ".py",
   "mimetype": "text/x-python",
   "name": "python",
   "nbconvert_exporter": "python",
   "pygments_lexer": "ipython3",
   "version": "3.7.3"
  }
 },
 "nbformat": 4,
 "nbformat_minor": 2
}
