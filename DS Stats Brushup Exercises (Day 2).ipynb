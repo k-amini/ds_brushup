{
 "cells": [
  {
   "cell_type": "markdown",
   "metadata": {},
   "source": [
    "1. Show that:\n",
    "$$\\require{cancel}\\begin{align*}\n",
    "\\mathbb{E}[(X-c)^2 &\\geq \\mathbb{E}[(X- \\mathbb{E}[X])^2] \\\\\n",
    "\\cancel{\\mathbb{E}[X^2]} + c^2 - 2c \\mathbb{E}[X] &\\geq \\cancel{\\mathbb{E}[X^2]} - \\mathbb{E}[X]^2 \\\\\n",
    "c^2 + \\mathbb{E}[X]^2 - 2c \\mathbb{E}[X] &\\geq 0 \\\\\n",
    "(c - \\mathbb{E}[X])^2 &\\geq 0 \\tag*{$\\blacksquare$}\n",
    "\\end{align*} $$\n"
   ]
  },
  {
   "cell_type": "markdown",
   "metadata": {},
   "source": [
    "2. Show that\n",
    "$$\\require{cancel}\\begin{align*}\n",
    "    \\text{Var}(X + Y) &= \\text{Var}(X) + \\text{Var}(Y) + 2 \\text{Cov}(X,Y) \\\\\n",
    "    \\text{Var}(X + Y)&= \\mathbb{E}[(X+Y)^2] - \\mathbb{E}[(X+Y)^2]  \\\\\n",
    "    &= \\mathbb{E}[X^2] + \\mathbb{E}[Y^2] + 2 \\mathbb{E}[XY] - \\mathbb{E}[X]^2 - \\mathbb{E}[Y]^2 - \\mathbb{E}[X]\\mathbb{E}[Y] \\\\\n",
    "    &= \\text{Var}(X) + \\text{Var}(Y) + 2 \\text{Cov}(X,Y) \\\\\n",
    "    \\text{as} \\quad \\text{Var}(X) & = \\mathbb{E}[X^2] - \\mathbb{E}[X]^2  \\\\\n",
    "    \\text{and} \\quad \\text{Var}(Y) & = \\mathbb{E}[Y^2] - \\mathbb{E}[Y]^2  \\\\\n",
    "    \\text{and} \\; \\text{Cov}(X,Y) & = 2\\mathbb{E}[XY] - 2 \\mathbb{E}[X]\\mathbb{E}[Y]  \\\\\n",
    "\\end{align*} $$"
   ]
  },
  {
   "cell_type": "markdown",
   "metadata": {},
   "source": [
    "3. Show that\n",
    "$$\\require{cancel}\\begin{align*}\n",
    "|\\text{Corr}(X,Y)| &\\leq 1$ \\\\\n",
    "|\\mathbb{E}[WZ]| &\\leq \\mathbb{E}[|WZ|]\n",
    "\\end{align*} $$\n",
    "because of the convexity of the absolute value function, we can use Jensen's inequality. Thus, using the (Cauchy-)Schwartz inequality:\n",
    "$$\\require{cancel}\\begin{align*}\n",
    "    \\mathbb{E}[|WZ|] \\leq \\sqrt{\\mathbb{E}[X^2]\\mathbb{E}[Y^2]}\n",
    "\\end{align*} $$\n",
    "Setting $W = X - \\mathbb[X]$ and $Z = Y - \\mathbb[Y]$, _i.e._ using the centred moments instead of the uncentred moments:\n",
    "$$\\require{cancel}\\begin{align*}\n",
    "    \\mathbb{E}[|(X - \\mathbb[X])(Y - \\mathbb[Y])|] &\\leq \\sqrt{\\mathbb{E}[(X- \\mathbb[X])^2]\\mathbb{E}[(Y - - \\mathbb[Y])^2]} \\\\\n",
    "    \\frac{|\\text{Cov}(X,Y)|}{\\sigma_x \\sigma_y} &\\leq 1 && \\text{Using definitions of covariance and variance}\\\\\n",
    "    \\implies |\\text{Corr}(X,Y)| &\\leq 1 \n",
    "\\end{align*} $$\n",
    "\n",
    "Aside: \n",
    "Question of whether it is acceptable to define:\n",
    "$Z = X \\times Y$ and use Jensen's inequality\n",
    "\n",
    "Thoughts: If you know that $g(x)$ is convex, then you can use Jensen's inequality, but if you have $g(h(x))$ where $h(x)$ is unknown, can you use Jensen's inequality?\n"
   ]
  },
  {
   "cell_type": "markdown",
   "metadata": {},
   "source": [
    "5. Prove Chebyshev's Inequality:\n",
    "$$\\require{cancel}\\begin{align*}\n",
    "\\mathbb{P}[|X - \\mathbb{E}[X] \\geq c] \\leq \\frac{\\text{Var}(X)}{c^2}\n",
    "\\end{align*} $$\n",
    "From Markov's Inequality:\n",
    "$$\\require{cancel}\\begin{align*}\n",
    "    \\mathbb{P}[Z \\geq c] &\\leq \\frac{\\mathbb{E}[g(z)]}{g(c)} \\\\\n",
    "    \\text{Set} \\quad Z &= |X - \\mathbb{E}[X]| \\\\\n",
    "    g(z) &= Z^2 \\\\\n",
    "    &= (X - \\mathbb{E}[X]^2 \\\\\n",
    "    \\implies \\mathbb{P}[|X \\mathbb{E}[X]| & \\leq \\frac{\\mathbb{E}[(X - \\mathbb{E}[X])^2}{c^2} \\\\\n",
    "    &= \\frac{\\text{Var}(X)}{c^2}\n",
    "\\end{align*} $$\n"
   ]
  },
  {
   "cell_type": "markdown",
   "metadata": {},
   "source": [
    "6. Compare the predictions from a Normal distribution with those from the Chebyshev inequality for $\\alpha = 0.05$:\n",
    "\n",
    "Normal:\n",
    "$$\\require{cancel}\\begin{align*}\n",
    "    X \\sim \\mathcal{N}(\\mu, v) \\\\\n",
    "    \\alpha = 0.05 \\\\\n",
    "    \\implies \\frac{\\alpha}{2} &= 0.025 && \\text{as size test, use two-tailed test}\\\\ \n",
    "    \\implies \\frac{\\alpha}{2} &= 1.96 \\approx 2 && \\text{from Normal distribution tables} \\\\\n",
    "    \\implies \\mu \\pm 2 \\sqrt{v}\n",
    "\\end{align*} $$\n",
    "\n",
    "Chebyshev Inequality:\n",
    "$$\\require{cancel}\\begin{align*}\n",
    "    \\frac{\\text{Var}(X)}{c^2} &= 0.05 \\\\\n",
    "    \\implies c &= \\sqrt{\\frac{\\text{Var}(X)}{0.05}} \\\\\n",
    "    &= \\sqrt{20}\\sqrt{\\text{Var}(X)} \\\\\n",
    "    &\\approx \\mu \\pm 4.47 \\sqrt{v} \n",
    "\\end{align*} $$"
   ]
  },
  {
   "cell_type": "code",
   "execution_count": null,
   "metadata": {},
   "outputs": [],
   "source": []
  }
 ],
 "metadata": {
  "kernelspec": {
   "display_name": "Python 3",
   "language": "python",
   "name": "python3"
  },
  "language_info": {
   "codemirror_mode": {
    "name": "ipython",
    "version": 3
   },
   "file_extension": ".py",
   "mimetype": "text/x-python",
   "name": "python",
   "nbconvert_exporter": "python",
   "pygments_lexer": "ipython3",
   "version": "3.7.3"
  }
 },
 "nbformat": 4,
 "nbformat_minor": 2
}
