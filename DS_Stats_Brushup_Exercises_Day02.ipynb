{
 "cells": [
  {
   "cell_type": "markdown",
   "metadata": {},
   "source": [
    "## Exercises"
   ]
  },
  {
   "cell_type": "markdown",
   "metadata": {},
   "source": [
    "1. Show that:\n",
    "$$\\require{cancel}\\begin{align*}\n",
    "\\mathbb{E}[(X-c)^2] &\\geq \\mathbb{E}[(X- \\mathbb{E}[X])^2] \\\\\n",
    "\\cancel{\\mathbb{E}[X^2]} + c^2 - 2c \\mathbb{E}[X] &\\geq \\cancel{\\mathbb{E}[X^2]} - \\mathbb{E}[X]^2 &&\\text{Re-expressing the variance}\\\\\n",
    "c^2 + \\mathbb{E}[X]^2 - 2c \\mathbb{E}[X] &\\geq 0 \\\\\n",
    "(c - \\mathbb{E}[X])^2 &\\geq 0 \\tag*{$\\blacksquare$}\n",
    "\\end{align*} $$\n"
   ]
  },
  {
   "cell_type": "markdown",
   "metadata": {},
   "source": [
    "#### Corrections:\n",
    "$$\\require{cancel}\\begin{align*}\n",
    "    &= \\mathbb{E}[(X - \\mathbb{E}[X] + \\mathbb{E}[X] - c)^2] \\\\\n",
    "    &= \\mathbb{E}[(X-  \\mathbb{E}[X]) + (\\mathbb{E}[X] - c)^2 + 2(\\mathbb{E}[X]-c)\\underbrace{\\mathbb{E}[X - \\mathbb{E}[X]]}_0 \\\\\n",
    "    \\implies \\mathbb{E}[(X-c)^2] &\\geq \\mathbb{E}[(X- \\mathbb{E}[X])^2]\n",
    "\\end{align*}$$"
   ]
  },
  {
   "cell_type": "markdown",
   "metadata": {},
   "source": [
    "$$\\require{cancel}\\begin{align*}\n",
    "    \\mathbb{E}[(Y - f(X))^2] \\geq \\mathbb{E}[(Y - \\mathbb{E}[Y|X])^2] \\\\\n",
    "    x \\to \\mathbb{E}[Y|X = x] \\\\\n",
    "    f(x^*) = \\sum_{k=1}^{m} \\phi_k(x) \\theta_k\n",
    "\\end{align*}$$"
   ]
  },
  {
   "cell_type": "markdown",
   "metadata": {},
   "source": [
    "2. Show that\n",
    "$$\\require{cancel}\\begin{align*}\n",
    "    \\text{Var}(X + Y) &= \\text{Var}(X) + \\text{Var}(Y) + 2 \\text{Cov}(X,Y) \\\\\n",
    "    \\text{Var}(X + Y)&= \\mathbb{E}[(X+Y)^2] - \\mathbb{E}[(X+Y)^2]  \\\\\n",
    "    &= \\mathbb{E}[X^2] + \\mathbb{E}[Y^2] + 2 \\mathbb{E}[XY] - \\mathbb{E}[X]^2 - \\mathbb{E}[Y]^2 - \\mathbb{E}[X]\\mathbb{E}[Y] \\\\\n",
    "    &= \\text{Var}(X) + \\text{Var}(Y) + 2 \\text{Cov}(X,Y) \\\\\n",
    "    \\text{as} \\quad \\text{Var}(X) & = \\mathbb{E}[X^2] - \\mathbb{E}[X]^2  \\\\\n",
    "    \\text{and} \\quad \\text{Var}(Y) & = \\mathbb{E}[Y^2] - \\mathbb{E}[Y]^2  \\\\\n",
    "    \\text{and} \\; \\text{Cov}(X,Y) & = 2\\mathbb{E}[XY] - 2 \\mathbb{E}[X]\\mathbb{E}[Y]  \\\\\n",
    "\\end{align*} $$"
   ]
  },
  {
   "cell_type": "markdown",
   "metadata": {},
   "source": [
    "3. Show that\n",
    "$$\\require{cancel}\\begin{align*}\n",
    "|\\text{Corr}(X,Y)| &\\leq 1 \\\\\n",
    "|\\mathbb{E}[WZ]| &\\leq \\mathbb{E}[|WZ|]\n",
    "\\end{align*} $$\n",
    "because of the convexity of the absolute value function, we can use Jensen's inequality. Thus, using the (Cauchy-)Schwartz inequality:\n",
    "$$\\require{cancel}\\begin{align*}\n",
    "    \\mathbb{E}[|WZ|] \\leq \\sqrt{\\mathbb{E}[X^2]\\mathbb{E}[Y^2]}\n",
    "\\end{align*} $$\n",
    "Setting $W = X - \\mathbb[X]$ and $Z = Y - \\mathbb[Y]$, _i.e._ using the centred moments instead of the uncentred moments:\n",
    "$$\\require{cancel}\\begin{align*}\n",
    "    \\mathbb{E}[|(X - \\mathbb[X])(Y - \\mathbb[Y])|] &\\leq \\sqrt{\\mathbb{E}[(X- \\mathbb[X])^2]\\mathbb{E}[(Y - - \\mathbb[Y])^2]} \\\\\n",
    "    \\frac{|\\text{Cov}(X,Y)|}{\\sigma_x \\sigma_y} &\\leq 1 && \\text{Using definitions of covariance and variance}\\\\\n",
    "    \\implies |\\text{Corr}(X,Y)| &\\leq 1 \n",
    "\\end{align*} $$\n",
    "\n",
    "Aside: \n",
    "Question of whether it is acceptable to define:\n",
    "$Z = X \\times Y$ and use Jensen's inequality\n",
    "\n",
    "Thoughts: If you know that $g(x)$ is convex, then you can use Jensen's inequality, but if you have $g(h(x))$ where $h(x)$ is unknown, can you use Jensen's inequality?\n",
    "\n",
    "To check this, look at the derivatives, which will require the chain rule\n",
    "$$\\begin{align*}\n",
    "    f(g(x))\n",
    "\\end{align*} $$\n",
    "This suggests that the derivative of a convex function is convex, but that other combinations may yield other results"
   ]
  },
  {
   "cell_type": "markdown",
   "metadata": {},
   "source": [
    "#### Corrections\n",
    "$$\\require{cancel}\\begin{align*}\n",
    "    | \\text{Cov}(X,Y) | &= \\frac{| \\mathbb{E}[(X - \\mu_X) (Y - \\mu_Y)]|}{\\sqrt{\\mathbb{E}[(X - \\mu_X)]^2 \\mathbb{E}[(Y - \\mu_Y)]^2}} \\\\\n",
    "    & \\leq \\frac{\\mathbb{E}[|(X - \\mu_X) (Y - \\mu_Y)|]}{\\sqrt{\\mathbb{E}[(X - \\mu_X)]^2 \\mathbb{E}[(Y - \\mu_Y)]^2}}\\\\\n",
    "    & \\leq \\sqrt{\\mathbb{E}[(X - \\mu_X)]^2 \\mathbb{E}[(Y - \\mu_Y)]^2} && \\text{By CS}\n",
    "\\end{align*} $$"
   ]
  },
  {
   "cell_type": "markdown",
   "metadata": {},
   "source": [
    "Proving the CS inequality:\n",
    "$$\\require{cancel}\\begin{align*}\n",
    "    g(t) &= \\mathbb{E}[(X+tY)^2] \\\\\n",
    "    &= \\mathbb{E}[X^2] + \\mathbb{E}[Y^2] + 2 \\mathbb{E}[XY] \\\\\n",
    "    \\implies b^2 - 4ac &= (2\\mathbb{E}[XY])^2 - 4 \\mathbb{E}[Y^2]\\mathbb{E}[X^2]\\\\\n",
    "    &= 4 (\\mathbb{E}[XY]^2 - \\mathbb{E}[Y^2]\\mathbb{E}[X^2]) \\\\\n",
    "    \\implies \\mathbb{E}[XY] & \\leq \\sqrt{\\mathbb{E}[X^2]\\mathbb{E}[Y^2]} && \\text{For discriminant, } b^2 - 4ac \\leq 0\n",
    "\\end{align*} $$"
   ]
  },
  {
   "cell_type": "markdown",
   "metadata": {},
   "source": [
    "5. Prove Chebyshev's Inequality:\n",
    "$$\\require{cancel}\\begin{align*}\n",
    "\\mathbb{P}[|X - \\mathbb{E}[X] \\geq c] \\leq \\frac{\\text{Var}(X)}{c^2}\n",
    "\\end{align*} $$\n",
    "From Markov's Inequality:\n",
    "$$\\require{cancel}\\begin{align*}\n",
    "    \\mathbb{P}[Z \\geq c] &\\leq \\frac{\\mathbb{E}[g(z)]}{g(c)} \\\\\n",
    "    \\text{Set} \\quad Z &= |X - \\mathbb{E}[X]| \\\\\n",
    "    g(z) &= Z^2 \\\\\n",
    "    &= (X - \\mathbb{E}[X]^2 \\\\\n",
    "    \\implies \\mathbb{P}[|X \\mathbb{E}[X]| & \\leq \\frac{\\mathbb{E}[(X - \\mathbb{E}[X])^2}{c^2} \\\\\n",
    "    &= \\frac{\\text{Var}(X)}{c^2}\n",
    "\\end{align*} $$\n"
   ]
  },
  {
   "cell_type": "markdown",
   "metadata": {},
   "source": [
    "#### Corrections\n",
    "\n",
    "$$\\require{cancel}\\begin{align*}\n",
    "\\mathbb{P}[|X - \\mathbb{E}[X] \\geq c] \\leq \\frac{\\text{Var}(X)}{c^2} && c > 0 \\\\\n",
    "\\mathbb{P}[|X - \\mathbb{E}[X] \\geq c] \n",
    "\\end{align*} $$\n"
   ]
  },
  {
   "cell_type": "markdown",
   "metadata": {},
   "source": [
    "6. Compare the predictions from a Normal distribution with those from the Chebyshev inequality for $\\alpha = 0.05$:\n",
    "\n",
    "Normal:\n",
    "$$\\require{cancel}\\begin{align*}\n",
    "    X \\sim \\mathcal{N}(\\mu, v) \\\\\n",
    "    \\alpha = 0.05 \\\\\n",
    "    \\implies \\frac{\\alpha}{2} &= 0.025 && \\text{as size test, use two-tailed test}\\\\ \n",
    "    \\implies \\frac{\\alpha}{2} &= 1.96 \\approx 2 && \\text{from Normal distribution tables} \\\\\n",
    "    \\implies \\mu \\pm 2 \\sqrt{v}\n",
    "\\end{align*} $$\n",
    "\n",
    "Chebyshev Inequality:\n",
    "$$\\require{cancel}\\begin{align*}\n",
    "    \\frac{\\text{Var}(X)}{c^2} &= 0.05 \\\\\n",
    "    \\implies c &= \\sqrt{\\frac{\\text{Var}(X)}{0.05}} \\\\\n",
    "    &= \\sqrt{20}\\sqrt{\\text{Var}(X)} \\\\\n",
    "    &\\approx \\mu \\pm 4.47 \\sqrt{v} \n",
    "\\end{align*} $$"
   ]
  },
  {
   "cell_type": "markdown",
   "metadata": {},
   "source": [
    "7. If:\n",
    "$$\\begin{align*}\n",
    "  \\mathbb{E}[e^{\\theta X}] < + \\infty \\quad \\exists \\quad \\theta  \n",
    "\\end{align*} $$\n",
    "Prove:\n",
    "$$ \\begin{align*}\n",
    "    \\mathbb{P}[x \\geq c] &\\leq e^{-\\theta c} \\mathbb{E}[e^{\\theta X}] \\\\\n",
    "    g(X) &= e^{\\theta X} \\\\\n",
    "    \\mathbb{P}[x \\geq c] &\\leq \\frac{\\mathbb{E}[e^{\\theta X}]}{e^{\\theta X}} && \\text{Using the Markov inequality}\\\\\n",
    "    &= e^{-\\theta c} \\mathbb{E}[e^\\theta X]\n",
    "\\end{align*} $$"
   ]
  },
  {
   "cell_type": "markdown",
   "metadata": {},
   "source": [
    "8. Show that:\n",
    "$$ \\begin{align*}\n",
    "    |\\mathbb{E}[x]| & \\leq |\\mathbb{E}[x]| \\\\\n",
    "    g(x) &= |x| && \\text{This function is convex}\n",
    "\\end{align*} $$\n",
    "Thus, we can invoke Jensen's inequality."
   ]
  },
  {
   "cell_type": "markdown",
   "metadata": {},
   "source": [
    "9. Show that:\n",
    "$$ \\begin{align*}\n",
    "    \\mathbb{E}[x]^2 & \\leq \\mathbb{E}[x^2] \\\\\n",
    "    g(x) &= |x| && \\text{This function is convex}\n",
    "\\end{align*} $$\n",
    "Thus, we can invoke Jensen's inequality."
   ]
  },
  {
   "cell_type": "markdown",
   "metadata": {},
   "source": [
    "10. Conditional expectations question (not done)."
   ]
  },
  {
   "cell_type": "code",
   "execution_count": null,
   "metadata": {},
   "outputs": [],
   "source": []
  }
 ],
 "metadata": {
  "kernelspec": {
   "display_name": "Python 3",
   "language": "python",
   "name": "python3"
  },
  "language_info": {
   "codemirror_mode": {
    "name": "ipython",
    "version": 3
   },
   "file_extension": ".py",
   "mimetype": "text/x-python",
   "name": "python",
   "nbconvert_exporter": "python",
   "pygments_lexer": "ipython3",
   "version": "3.7.3"
  }
 },
 "nbformat": 4,
 "nbformat_minor": 2
}
